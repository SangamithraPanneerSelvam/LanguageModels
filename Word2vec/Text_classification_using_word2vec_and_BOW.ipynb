{
  "nbformat": 4,
  "nbformat_minor": 0,
  "metadata": {
    "colab": {
      "name": "Text_classification using word2vec and BOW.ipynb",
      "provenance": [],
      "collapsed_sections": []
    },
    "kernelspec": {
      "name": "python3",
      "display_name": "Python 3"
    },
    "language_info": {
      "name": "python"
    }
  },
  "cells": [
    {
      "cell_type": "markdown",
      "source": [
        "# **Import libraries**"
      ],
      "metadata": {
        "id": "R2cS1iI04_wh"
      }
    },
    {
      "cell_type": "code",
      "execution_count": null,
      "metadata": {
        "id": "31nyQ1oXjl8B"
      },
      "outputs": [],
      "source": [
        "\n",
        "\"\"\"Import necessary libraries\"\"\"\n",
        "import numpy as np\n",
        "import tensorflow\n",
        "import matplotlib.pyplot as plt\n",
        "import pandas as pd\n",
        "import nltk\n",
        "import re\n",
        "from sklearn import feature_extraction, model_selection, naive_bayes, pipeline, preprocessing\n",
        "\n"
      ]
    },
    {
      "cell_type": "markdown",
      "source": [
        "# **Import Dataset**"
      ],
      "metadata": {
        "id": "oYpSc_re5Ean"
      }
    },
    {
      "cell_type": "code",
      "source": [
        "dataset=pd.read_csv(\"superheroes_nlp_dataset.csv\")\n",
        "dataset"
      ],
      "metadata": {
        "colab": {
          "base_uri": "https://localhost:8080/",
          "height": 1000
        },
        "id": "etiqGcQ0kHWb",
        "outputId": "2b537cf5-bd77-4611-ba6c-594a4ed76ea7"
      },
      "execution_count": null,
      "outputs": [
        {
          "output_type": "execute_result",
          "data": {
            "text/plain": [
              "               name               real_name               full_name  \\\n",
              "0           3-D Man     Delroy Garrett, Jr.     Delroy Garrett, Jr.   \n",
              "1     514A (Gotham)             Bruce Wayne                     NaN   \n",
              "2            A-Bomb  Richard Milhouse Jones  Richard Milhouse Jones   \n",
              "3                Aa                      Aa                     NaN   \n",
              "4        Aaron Cash              Aaron Cash              Aaron Cash   \n",
              "...             ...                     ...                     ...   \n",
              "1445        Zatanna          Zatanna Zatara          Zatanna Zatara   \n",
              "1446           Zero             DWN-∞: Zero             DWN-∞: Zero   \n",
              "1447  Zoom (New 52)          Hunter Zolomon                     NaN   \n",
              "1448           Zoom          Hunter Zolomon          Hunter Zolomon   \n",
              "1449          Zzzax                     NaN                     NaN   \n",
              "\n",
              "     overall_score                                       history_text  \\\n",
              "0                6  Delroy Garrett, Jr. grew up to become a track ...   \n",
              "1               10  He was one of the many prisoners of Indian Hil...   \n",
              "2               20   Richard \"Rick\" Jones was orphaned at a young ...   \n",
              "3               12  Aa is one of the more passive members of the P...   \n",
              "4                5  Aaron Cash is the head of security at Arkham A...   \n",
              "...            ...                                                ...   \n",
              "1445            10  Zatanna is the daughter of adventurer John Zat...   \n",
              "1446            18   Zero was created by the late Dr. Albert Wily ...   \n",
              "1447            20  Hunter Zolomon is better known as Zoom, a spee...   \n",
              "1448             9   Hunter Zolomon had a troubled relationship wi...   \n",
              "1449             5  Zzzax was the product of an accident that occu...   \n",
              "\n",
              "                                            powers_text  intelligence_score  \\\n",
              "0                                                   NaN                  85   \n",
              "1                                                   NaN                 100   \n",
              "2       On rare occasions, and through unusual circu...                  80   \n",
              "3                                                   NaN                  80   \n",
              "4                                                   NaN                  80   \n",
              "...                                                 ...                 ...   \n",
              "1445   Zatanna is genetically talented with her magi...                  90   \n",
              "1446                                                NaN                  80   \n",
              "1447  After tricking Barry Allen and Wally West into...                  95   \n",
              "1448  Zoom is able to alter time, to make himself ev...                  75   \n",
              "1449                                                NaN                  45   \n",
              "\n",
              "      strength_score  speed_score  durability_score  ...  has_flight  \\\n",
              "0                 30           60                60  ...         0.0   \n",
              "1                 20           30                50  ...         0.0   \n",
              "2                100           80               100  ...         0.0   \n",
              "3                 50           55                45  ...         0.0   \n",
              "4                 10           25                40  ...         0.0   \n",
              "...              ...          ...               ...  ...         ...   \n",
              "1445              10           25                30  ...         0.0   \n",
              "1446             100          100               100  ...         0.0   \n",
              "1447              50          100                75  ...         0.0   \n",
              "1448              10          100                30  ...         0.0   \n",
              "1449              80           75                95  ...         1.0   \n",
              "\n",
              "      has_accelerated_healing has_weapons_master has_intelligence  \\\n",
              "0                         0.0                0.0              0.0   \n",
              "1                         0.0                0.0              0.0   \n",
              "2                         1.0                0.0              0.0   \n",
              "3                         0.0                0.0              0.0   \n",
              "4                         0.0                1.0              0.0   \n",
              "...                       ...                ...              ...   \n",
              "1445                      0.0                0.0              0.0   \n",
              "1446                      1.0                1.0              1.0   \n",
              "1447                      1.0                0.0              1.0   \n",
              "1448                      0.0                0.0              0.0   \n",
              "1449                      0.0                0.0              0.0   \n",
              "\n",
              "     has_reflexes has_super_speed has_durability has_stamina has_agility  \\\n",
              "0             0.0             1.0            0.0         0.0         0.0   \n",
              "1             1.0             0.0            1.0         0.0         0.0   \n",
              "2             1.0             1.0            1.0         1.0         1.0   \n",
              "3             0.0             0.0            0.0         0.0         0.0   \n",
              "4             0.0             0.0            0.0         0.0         0.0   \n",
              "...           ...             ...            ...         ...         ...   \n",
              "1445          0.0             0.0            0.0         0.0         0.0   \n",
              "1446          1.0             1.0            1.0         1.0         1.0   \n",
              "1447          1.0             1.0            1.0         1.0         1.0   \n",
              "1448          0.0             1.0            0.0         0.0         0.0   \n",
              "1449          0.0             1.0            0.0         0.0         1.0   \n",
              "\n",
              "     has_super_strength  \n",
              "0                   1.0  \n",
              "1                   1.0  \n",
              "2                   1.0  \n",
              "3                   0.0  \n",
              "4                   0.0  \n",
              "...                 ...  \n",
              "1445                0.0  \n",
              "1446                1.0  \n",
              "1447                1.0  \n",
              "1448                0.0  \n",
              "1449                1.0  \n",
              "\n",
              "[1450 rows x 81 columns]"
            ],
            "text/html": [
              "\n",
              "  <div id=\"df-4b2fd83c-d7e6-410d-bf9e-9eb62aa3a0f3\">\n",
              "    <div class=\"colab-df-container\">\n",
              "      <div>\n",
              "<style scoped>\n",
              "    .dataframe tbody tr th:only-of-type {\n",
              "        vertical-align: middle;\n",
              "    }\n",
              "\n",
              "    .dataframe tbody tr th {\n",
              "        vertical-align: top;\n",
              "    }\n",
              "\n",
              "    .dataframe thead th {\n",
              "        text-align: right;\n",
              "    }\n",
              "</style>\n",
              "<table border=\"1\" class=\"dataframe\">\n",
              "  <thead>\n",
              "    <tr style=\"text-align: right;\">\n",
              "      <th></th>\n",
              "      <th>name</th>\n",
              "      <th>real_name</th>\n",
              "      <th>full_name</th>\n",
              "      <th>overall_score</th>\n",
              "      <th>history_text</th>\n",
              "      <th>powers_text</th>\n",
              "      <th>intelligence_score</th>\n",
              "      <th>strength_score</th>\n",
              "      <th>speed_score</th>\n",
              "      <th>durability_score</th>\n",
              "      <th>...</th>\n",
              "      <th>has_flight</th>\n",
              "      <th>has_accelerated_healing</th>\n",
              "      <th>has_weapons_master</th>\n",
              "      <th>has_intelligence</th>\n",
              "      <th>has_reflexes</th>\n",
              "      <th>has_super_speed</th>\n",
              "      <th>has_durability</th>\n",
              "      <th>has_stamina</th>\n",
              "      <th>has_agility</th>\n",
              "      <th>has_super_strength</th>\n",
              "    </tr>\n",
              "  </thead>\n",
              "  <tbody>\n",
              "    <tr>\n",
              "      <th>0</th>\n",
              "      <td>3-D Man</td>\n",
              "      <td>Delroy Garrett, Jr.</td>\n",
              "      <td>Delroy Garrett, Jr.</td>\n",
              "      <td>6</td>\n",
              "      <td>Delroy Garrett, Jr. grew up to become a track ...</td>\n",
              "      <td>NaN</td>\n",
              "      <td>85</td>\n",
              "      <td>30</td>\n",
              "      <td>60</td>\n",
              "      <td>60</td>\n",
              "      <td>...</td>\n",
              "      <td>0.0</td>\n",
              "      <td>0.0</td>\n",
              "      <td>0.0</td>\n",
              "      <td>0.0</td>\n",
              "      <td>0.0</td>\n",
              "      <td>1.0</td>\n",
              "      <td>0.0</td>\n",
              "      <td>0.0</td>\n",
              "      <td>0.0</td>\n",
              "      <td>1.0</td>\n",
              "    </tr>\n",
              "    <tr>\n",
              "      <th>1</th>\n",
              "      <td>514A (Gotham)</td>\n",
              "      <td>Bruce Wayne</td>\n",
              "      <td>NaN</td>\n",
              "      <td>10</td>\n",
              "      <td>He was one of the many prisoners of Indian Hil...</td>\n",
              "      <td>NaN</td>\n",
              "      <td>100</td>\n",
              "      <td>20</td>\n",
              "      <td>30</td>\n",
              "      <td>50</td>\n",
              "      <td>...</td>\n",
              "      <td>0.0</td>\n",
              "      <td>0.0</td>\n",
              "      <td>0.0</td>\n",
              "      <td>0.0</td>\n",
              "      <td>1.0</td>\n",
              "      <td>0.0</td>\n",
              "      <td>1.0</td>\n",
              "      <td>0.0</td>\n",
              "      <td>0.0</td>\n",
              "      <td>1.0</td>\n",
              "    </tr>\n",
              "    <tr>\n",
              "      <th>2</th>\n",
              "      <td>A-Bomb</td>\n",
              "      <td>Richard Milhouse Jones</td>\n",
              "      <td>Richard Milhouse Jones</td>\n",
              "      <td>20</td>\n",
              "      <td>Richard \"Rick\" Jones was orphaned at a young ...</td>\n",
              "      <td>On rare occasions, and through unusual circu...</td>\n",
              "      <td>80</td>\n",
              "      <td>100</td>\n",
              "      <td>80</td>\n",
              "      <td>100</td>\n",
              "      <td>...</td>\n",
              "      <td>0.0</td>\n",
              "      <td>1.0</td>\n",
              "      <td>0.0</td>\n",
              "      <td>0.0</td>\n",
              "      <td>1.0</td>\n",
              "      <td>1.0</td>\n",
              "      <td>1.0</td>\n",
              "      <td>1.0</td>\n",
              "      <td>1.0</td>\n",
              "      <td>1.0</td>\n",
              "    </tr>\n",
              "    <tr>\n",
              "      <th>3</th>\n",
              "      <td>Aa</td>\n",
              "      <td>Aa</td>\n",
              "      <td>NaN</td>\n",
              "      <td>12</td>\n",
              "      <td>Aa is one of the more passive members of the P...</td>\n",
              "      <td>NaN</td>\n",
              "      <td>80</td>\n",
              "      <td>50</td>\n",
              "      <td>55</td>\n",
              "      <td>45</td>\n",
              "      <td>...</td>\n",
              "      <td>0.0</td>\n",
              "      <td>0.0</td>\n",
              "      <td>0.0</td>\n",
              "      <td>0.0</td>\n",
              "      <td>0.0</td>\n",
              "      <td>0.0</td>\n",
              "      <td>0.0</td>\n",
              "      <td>0.0</td>\n",
              "      <td>0.0</td>\n",
              "      <td>0.0</td>\n",
              "    </tr>\n",
              "    <tr>\n",
              "      <th>4</th>\n",
              "      <td>Aaron Cash</td>\n",
              "      <td>Aaron Cash</td>\n",
              "      <td>Aaron Cash</td>\n",
              "      <td>5</td>\n",
              "      <td>Aaron Cash is the head of security at Arkham A...</td>\n",
              "      <td>NaN</td>\n",
              "      <td>80</td>\n",
              "      <td>10</td>\n",
              "      <td>25</td>\n",
              "      <td>40</td>\n",
              "      <td>...</td>\n",
              "      <td>0.0</td>\n",
              "      <td>0.0</td>\n",
              "      <td>1.0</td>\n",
              "      <td>0.0</td>\n",
              "      <td>0.0</td>\n",
              "      <td>0.0</td>\n",
              "      <td>0.0</td>\n",
              "      <td>0.0</td>\n",
              "      <td>0.0</td>\n",
              "      <td>0.0</td>\n",
              "    </tr>\n",
              "    <tr>\n",
              "      <th>...</th>\n",
              "      <td>...</td>\n",
              "      <td>...</td>\n",
              "      <td>...</td>\n",
              "      <td>...</td>\n",
              "      <td>...</td>\n",
              "      <td>...</td>\n",
              "      <td>...</td>\n",
              "      <td>...</td>\n",
              "      <td>...</td>\n",
              "      <td>...</td>\n",
              "      <td>...</td>\n",
              "      <td>...</td>\n",
              "      <td>...</td>\n",
              "      <td>...</td>\n",
              "      <td>...</td>\n",
              "      <td>...</td>\n",
              "      <td>...</td>\n",
              "      <td>...</td>\n",
              "      <td>...</td>\n",
              "      <td>...</td>\n",
              "      <td>...</td>\n",
              "    </tr>\n",
              "    <tr>\n",
              "      <th>1445</th>\n",
              "      <td>Zatanna</td>\n",
              "      <td>Zatanna Zatara</td>\n",
              "      <td>Zatanna Zatara</td>\n",
              "      <td>10</td>\n",
              "      <td>Zatanna is the daughter of adventurer John Zat...</td>\n",
              "      <td>Zatanna is genetically talented with her magi...</td>\n",
              "      <td>90</td>\n",
              "      <td>10</td>\n",
              "      <td>25</td>\n",
              "      <td>30</td>\n",
              "      <td>...</td>\n",
              "      <td>0.0</td>\n",
              "      <td>0.0</td>\n",
              "      <td>0.0</td>\n",
              "      <td>0.0</td>\n",
              "      <td>0.0</td>\n",
              "      <td>0.0</td>\n",
              "      <td>0.0</td>\n",
              "      <td>0.0</td>\n",
              "      <td>0.0</td>\n",
              "      <td>0.0</td>\n",
              "    </tr>\n",
              "    <tr>\n",
              "      <th>1446</th>\n",
              "      <td>Zero</td>\n",
              "      <td>DWN-∞: Zero</td>\n",
              "      <td>DWN-∞: Zero</td>\n",
              "      <td>18</td>\n",
              "      <td>Zero was created by the late Dr. Albert Wily ...</td>\n",
              "      <td>NaN</td>\n",
              "      <td>80</td>\n",
              "      <td>100</td>\n",
              "      <td>100</td>\n",
              "      <td>100</td>\n",
              "      <td>...</td>\n",
              "      <td>0.0</td>\n",
              "      <td>1.0</td>\n",
              "      <td>1.0</td>\n",
              "      <td>1.0</td>\n",
              "      <td>1.0</td>\n",
              "      <td>1.0</td>\n",
              "      <td>1.0</td>\n",
              "      <td>1.0</td>\n",
              "      <td>1.0</td>\n",
              "      <td>1.0</td>\n",
              "    </tr>\n",
              "    <tr>\n",
              "      <th>1447</th>\n",
              "      <td>Zoom (New 52)</td>\n",
              "      <td>Hunter Zolomon</td>\n",
              "      <td>NaN</td>\n",
              "      <td>20</td>\n",
              "      <td>Hunter Zolomon is better known as Zoom, a spee...</td>\n",
              "      <td>After tricking Barry Allen and Wally West into...</td>\n",
              "      <td>95</td>\n",
              "      <td>50</td>\n",
              "      <td>100</td>\n",
              "      <td>75</td>\n",
              "      <td>...</td>\n",
              "      <td>0.0</td>\n",
              "      <td>1.0</td>\n",
              "      <td>0.0</td>\n",
              "      <td>1.0</td>\n",
              "      <td>1.0</td>\n",
              "      <td>1.0</td>\n",
              "      <td>1.0</td>\n",
              "      <td>1.0</td>\n",
              "      <td>1.0</td>\n",
              "      <td>1.0</td>\n",
              "    </tr>\n",
              "    <tr>\n",
              "      <th>1448</th>\n",
              "      <td>Zoom</td>\n",
              "      <td>Hunter Zolomon</td>\n",
              "      <td>Hunter Zolomon</td>\n",
              "      <td>9</td>\n",
              "      <td>Hunter Zolomon had a troubled relationship wi...</td>\n",
              "      <td>Zoom is able to alter time, to make himself ev...</td>\n",
              "      <td>75</td>\n",
              "      <td>10</td>\n",
              "      <td>100</td>\n",
              "      <td>30</td>\n",
              "      <td>...</td>\n",
              "      <td>0.0</td>\n",
              "      <td>0.0</td>\n",
              "      <td>0.0</td>\n",
              "      <td>0.0</td>\n",
              "      <td>0.0</td>\n",
              "      <td>1.0</td>\n",
              "      <td>0.0</td>\n",
              "      <td>0.0</td>\n",
              "      <td>0.0</td>\n",
              "      <td>0.0</td>\n",
              "    </tr>\n",
              "    <tr>\n",
              "      <th>1449</th>\n",
              "      <td>Zzzax</td>\n",
              "      <td>NaN</td>\n",
              "      <td>NaN</td>\n",
              "      <td>5</td>\n",
              "      <td>Zzzax was the product of an accident that occu...</td>\n",
              "      <td>NaN</td>\n",
              "      <td>45</td>\n",
              "      <td>80</td>\n",
              "      <td>75</td>\n",
              "      <td>95</td>\n",
              "      <td>...</td>\n",
              "      <td>1.0</td>\n",
              "      <td>0.0</td>\n",
              "      <td>0.0</td>\n",
              "      <td>0.0</td>\n",
              "      <td>0.0</td>\n",
              "      <td>1.0</td>\n",
              "      <td>0.0</td>\n",
              "      <td>0.0</td>\n",
              "      <td>1.0</td>\n",
              "      <td>1.0</td>\n",
              "    </tr>\n",
              "  </tbody>\n",
              "</table>\n",
              "<p>1450 rows × 81 columns</p>\n",
              "</div>\n",
              "      <button class=\"colab-df-convert\" onclick=\"convertToInteractive('df-4b2fd83c-d7e6-410d-bf9e-9eb62aa3a0f3')\"\n",
              "              title=\"Convert this dataframe to an interactive table.\"\n",
              "              style=\"display:none;\">\n",
              "        \n",
              "  <svg xmlns=\"http://www.w3.org/2000/svg\" height=\"24px\"viewBox=\"0 0 24 24\"\n",
              "       width=\"24px\">\n",
              "    <path d=\"M0 0h24v24H0V0z\" fill=\"none\"/>\n",
              "    <path d=\"M18.56 5.44l.94 2.06.94-2.06 2.06-.94-2.06-.94-.94-2.06-.94 2.06-2.06.94zm-11 1L8.5 8.5l.94-2.06 2.06-.94-2.06-.94L8.5 2.5l-.94 2.06-2.06.94zm10 10l.94 2.06.94-2.06 2.06-.94-2.06-.94-.94-2.06-.94 2.06-2.06.94z\"/><path d=\"M17.41 7.96l-1.37-1.37c-.4-.4-.92-.59-1.43-.59-.52 0-1.04.2-1.43.59L10.3 9.45l-7.72 7.72c-.78.78-.78 2.05 0 2.83L4 21.41c.39.39.9.59 1.41.59.51 0 1.02-.2 1.41-.59l7.78-7.78 2.81-2.81c.8-.78.8-2.07 0-2.86zM5.41 20L4 18.59l7.72-7.72 1.47 1.35L5.41 20z\"/>\n",
              "  </svg>\n",
              "      </button>\n",
              "      \n",
              "  <style>\n",
              "    .colab-df-container {\n",
              "      display:flex;\n",
              "      flex-wrap:wrap;\n",
              "      gap: 12px;\n",
              "    }\n",
              "\n",
              "    .colab-df-convert {\n",
              "      background-color: #E8F0FE;\n",
              "      border: none;\n",
              "      border-radius: 50%;\n",
              "      cursor: pointer;\n",
              "      display: none;\n",
              "      fill: #1967D2;\n",
              "      height: 32px;\n",
              "      padding: 0 0 0 0;\n",
              "      width: 32px;\n",
              "    }\n",
              "\n",
              "    .colab-df-convert:hover {\n",
              "      background-color: #E2EBFA;\n",
              "      box-shadow: 0px 1px 2px rgba(60, 64, 67, 0.3), 0px 1px 3px 1px rgba(60, 64, 67, 0.15);\n",
              "      fill: #174EA6;\n",
              "    }\n",
              "\n",
              "    [theme=dark] .colab-df-convert {\n",
              "      background-color: #3B4455;\n",
              "      fill: #D2E3FC;\n",
              "    }\n",
              "\n",
              "    [theme=dark] .colab-df-convert:hover {\n",
              "      background-color: #434B5C;\n",
              "      box-shadow: 0px 1px 3px 1px rgba(0, 0, 0, 0.15);\n",
              "      filter: drop-shadow(0px 1px 2px rgba(0, 0, 0, 0.3));\n",
              "      fill: #FFFFFF;\n",
              "    }\n",
              "  </style>\n",
              "\n",
              "      <script>\n",
              "        const buttonEl =\n",
              "          document.querySelector('#df-4b2fd83c-d7e6-410d-bf9e-9eb62aa3a0f3 button.colab-df-convert');\n",
              "        buttonEl.style.display =\n",
              "          google.colab.kernel.accessAllowed ? 'block' : 'none';\n",
              "\n",
              "        async function convertToInteractive(key) {\n",
              "          const element = document.querySelector('#df-4b2fd83c-d7e6-410d-bf9e-9eb62aa3a0f3');\n",
              "          const dataTable =\n",
              "            await google.colab.kernel.invokeFunction('convertToInteractive',\n",
              "                                                     [key], {});\n",
              "          if (!dataTable) return;\n",
              "\n",
              "          const docLinkHtml = 'Like what you see? Visit the ' +\n",
              "            '<a target=\"_blank\" href=https://colab.research.google.com/notebooks/data_table.ipynb>data table notebook</a>'\n",
              "            + ' to learn more about interactive tables.';\n",
              "          element.innerHTML = '';\n",
              "          dataTable['output_type'] = 'display_data';\n",
              "          await google.colab.output.renderOutput(dataTable, element);\n",
              "          const docLink = document.createElement('div');\n",
              "          docLink.innerHTML = docLinkHtml;\n",
              "          element.appendChild(docLink);\n",
              "        }\n",
              "      </script>\n",
              "    </div>\n",
              "  </div>\n",
              "  "
            ]
          },
          "metadata": {},
          "execution_count": 2
        }
      ]
    },
    {
      "cell_type": "code",
      "source": [
        "# classify_dataset=dataset[['history_text','powers_text','creator']]\n",
        "classify_dataset=dataset[['history_text','creator']]\n",
        "classify_dataset"
      ],
      "metadata": {
        "colab": {
          "base_uri": "https://localhost:8080/",
          "height": 424
        },
        "id": "MPteDIPysr9p",
        "outputId": "f520ba1f-0de8-4242-c6c4-8ee013106b7a"
      },
      "execution_count": null,
      "outputs": [
        {
          "output_type": "execute_result",
          "data": {
            "text/plain": [
              "                                           history_text        creator\n",
              "0     Delroy Garrett, Jr. grew up to become a track ...  Marvel Comics\n",
              "1     He was one of the many prisoners of Indian Hil...      DC Comics\n",
              "2      Richard \"Rick\" Jones was orphaned at a young ...  Marvel Comics\n",
              "3     Aa is one of the more passive members of the P...      DC Comics\n",
              "4     Aaron Cash is the head of security at Arkham A...      DC Comics\n",
              "...                                                 ...            ...\n",
              "1445  Zatanna is the daughter of adventurer John Zat...      DC Comics\n",
              "1446   Zero was created by the late Dr. Albert Wily ...         Capcom\n",
              "1447  Hunter Zolomon is better known as Zoom, a spee...      DC Comics\n",
              "1448   Hunter Zolomon had a troubled relationship wi...      DC Comics\n",
              "1449  Zzzax was the product of an accident that occu...  Marvel Comics\n",
              "\n",
              "[1450 rows x 2 columns]"
            ],
            "text/html": [
              "\n",
              "  <div id=\"df-35d2f20b-52bc-445a-895e-080fa252a8e9\">\n",
              "    <div class=\"colab-df-container\">\n",
              "      <div>\n",
              "<style scoped>\n",
              "    .dataframe tbody tr th:only-of-type {\n",
              "        vertical-align: middle;\n",
              "    }\n",
              "\n",
              "    .dataframe tbody tr th {\n",
              "        vertical-align: top;\n",
              "    }\n",
              "\n",
              "    .dataframe thead th {\n",
              "        text-align: right;\n",
              "    }\n",
              "</style>\n",
              "<table border=\"1\" class=\"dataframe\">\n",
              "  <thead>\n",
              "    <tr style=\"text-align: right;\">\n",
              "      <th></th>\n",
              "      <th>history_text</th>\n",
              "      <th>creator</th>\n",
              "    </tr>\n",
              "  </thead>\n",
              "  <tbody>\n",
              "    <tr>\n",
              "      <th>0</th>\n",
              "      <td>Delroy Garrett, Jr. grew up to become a track ...</td>\n",
              "      <td>Marvel Comics</td>\n",
              "    </tr>\n",
              "    <tr>\n",
              "      <th>1</th>\n",
              "      <td>He was one of the many prisoners of Indian Hil...</td>\n",
              "      <td>DC Comics</td>\n",
              "    </tr>\n",
              "    <tr>\n",
              "      <th>2</th>\n",
              "      <td>Richard \"Rick\" Jones was orphaned at a young ...</td>\n",
              "      <td>Marvel Comics</td>\n",
              "    </tr>\n",
              "    <tr>\n",
              "      <th>3</th>\n",
              "      <td>Aa is one of the more passive members of the P...</td>\n",
              "      <td>DC Comics</td>\n",
              "    </tr>\n",
              "    <tr>\n",
              "      <th>4</th>\n",
              "      <td>Aaron Cash is the head of security at Arkham A...</td>\n",
              "      <td>DC Comics</td>\n",
              "    </tr>\n",
              "    <tr>\n",
              "      <th>...</th>\n",
              "      <td>...</td>\n",
              "      <td>...</td>\n",
              "    </tr>\n",
              "    <tr>\n",
              "      <th>1445</th>\n",
              "      <td>Zatanna is the daughter of adventurer John Zat...</td>\n",
              "      <td>DC Comics</td>\n",
              "    </tr>\n",
              "    <tr>\n",
              "      <th>1446</th>\n",
              "      <td>Zero was created by the late Dr. Albert Wily ...</td>\n",
              "      <td>Capcom</td>\n",
              "    </tr>\n",
              "    <tr>\n",
              "      <th>1447</th>\n",
              "      <td>Hunter Zolomon is better known as Zoom, a spee...</td>\n",
              "      <td>DC Comics</td>\n",
              "    </tr>\n",
              "    <tr>\n",
              "      <th>1448</th>\n",
              "      <td>Hunter Zolomon had a troubled relationship wi...</td>\n",
              "      <td>DC Comics</td>\n",
              "    </tr>\n",
              "    <tr>\n",
              "      <th>1449</th>\n",
              "      <td>Zzzax was the product of an accident that occu...</td>\n",
              "      <td>Marvel Comics</td>\n",
              "    </tr>\n",
              "  </tbody>\n",
              "</table>\n",
              "<p>1450 rows × 2 columns</p>\n",
              "</div>\n",
              "      <button class=\"colab-df-convert\" onclick=\"convertToInteractive('df-35d2f20b-52bc-445a-895e-080fa252a8e9')\"\n",
              "              title=\"Convert this dataframe to an interactive table.\"\n",
              "              style=\"display:none;\">\n",
              "        \n",
              "  <svg xmlns=\"http://www.w3.org/2000/svg\" height=\"24px\"viewBox=\"0 0 24 24\"\n",
              "       width=\"24px\">\n",
              "    <path d=\"M0 0h24v24H0V0z\" fill=\"none\"/>\n",
              "    <path d=\"M18.56 5.44l.94 2.06.94-2.06 2.06-.94-2.06-.94-.94-2.06-.94 2.06-2.06.94zm-11 1L8.5 8.5l.94-2.06 2.06-.94-2.06-.94L8.5 2.5l-.94 2.06-2.06.94zm10 10l.94 2.06.94-2.06 2.06-.94-2.06-.94-.94-2.06-.94 2.06-2.06.94z\"/><path d=\"M17.41 7.96l-1.37-1.37c-.4-.4-.92-.59-1.43-.59-.52 0-1.04.2-1.43.59L10.3 9.45l-7.72 7.72c-.78.78-.78 2.05 0 2.83L4 21.41c.39.39.9.59 1.41.59.51 0 1.02-.2 1.41-.59l7.78-7.78 2.81-2.81c.8-.78.8-2.07 0-2.86zM5.41 20L4 18.59l7.72-7.72 1.47 1.35L5.41 20z\"/>\n",
              "  </svg>\n",
              "      </button>\n",
              "      \n",
              "  <style>\n",
              "    .colab-df-container {\n",
              "      display:flex;\n",
              "      flex-wrap:wrap;\n",
              "      gap: 12px;\n",
              "    }\n",
              "\n",
              "    .colab-df-convert {\n",
              "      background-color: #E8F0FE;\n",
              "      border: none;\n",
              "      border-radius: 50%;\n",
              "      cursor: pointer;\n",
              "      display: none;\n",
              "      fill: #1967D2;\n",
              "      height: 32px;\n",
              "      padding: 0 0 0 0;\n",
              "      width: 32px;\n",
              "    }\n",
              "\n",
              "    .colab-df-convert:hover {\n",
              "      background-color: #E2EBFA;\n",
              "      box-shadow: 0px 1px 2px rgba(60, 64, 67, 0.3), 0px 1px 3px 1px rgba(60, 64, 67, 0.15);\n",
              "      fill: #174EA6;\n",
              "    }\n",
              "\n",
              "    [theme=dark] .colab-df-convert {\n",
              "      background-color: #3B4455;\n",
              "      fill: #D2E3FC;\n",
              "    }\n",
              "\n",
              "    [theme=dark] .colab-df-convert:hover {\n",
              "      background-color: #434B5C;\n",
              "      box-shadow: 0px 1px 3px 1px rgba(0, 0, 0, 0.15);\n",
              "      filter: drop-shadow(0px 1px 2px rgba(0, 0, 0, 0.3));\n",
              "      fill: #FFFFFF;\n",
              "    }\n",
              "  </style>\n",
              "\n",
              "      <script>\n",
              "        const buttonEl =\n",
              "          document.querySelector('#df-35d2f20b-52bc-445a-895e-080fa252a8e9 button.colab-df-convert');\n",
              "        buttonEl.style.display =\n",
              "          google.colab.kernel.accessAllowed ? 'block' : 'none';\n",
              "\n",
              "        async function convertToInteractive(key) {\n",
              "          const element = document.querySelector('#df-35d2f20b-52bc-445a-895e-080fa252a8e9');\n",
              "          const dataTable =\n",
              "            await google.colab.kernel.invokeFunction('convertToInteractive',\n",
              "                                                     [key], {});\n",
              "          if (!dataTable) return;\n",
              "\n",
              "          const docLinkHtml = 'Like what you see? Visit the ' +\n",
              "            '<a target=\"_blank\" href=https://colab.research.google.com/notebooks/data_table.ipynb>data table notebook</a>'\n",
              "            + ' to learn more about interactive tables.';\n",
              "          element.innerHTML = '';\n",
              "          dataTable['output_type'] = 'display_data';\n",
              "          await google.colab.output.renderOutput(dataTable, element);\n",
              "          const docLink = document.createElement('div');\n",
              "          docLink.innerHTML = docLinkHtml;\n",
              "          element.appendChild(docLink);\n",
              "        }\n",
              "      </script>\n",
              "    </div>\n",
              "  </div>\n",
              "  "
            ]
          },
          "metadata": {},
          "execution_count": 22
        }
      ]
    },
    {
      "cell_type": "code",
      "source": [
        "# classify_dataset[\"powers_text\"].isna().sum()\n",
        "classify_dataset[\"history_text\"].isna().sum()\n",
        "classify_dataset=classify_dataset.dropna(axis=0)"
      ],
      "metadata": {
        "id": "JlfrE3Rz4kdm"
      },
      "execution_count": null,
      "outputs": []
    },
    {
      "cell_type": "markdown",
      "source": [
        "# **Data Preprocessing**"
      ],
      "metadata": {
        "id": "Axe4cyNmodIx"
      }
    },
    {
      "cell_type": "code",
      "source": [
        "import nltk \n",
        "nltk.download('stopwords')\n",
        "nltk.download('wordnet')\n",
        "nltk.download('omw-1.4')"
      ],
      "metadata": {
        "colab": {
          "base_uri": "https://localhost:8080/"
        },
        "id": "sFM7VaJurcNC",
        "outputId": "b3daf57b-f8f3-48a9-c987-b5edaf963ec0"
      },
      "execution_count": null,
      "outputs": [
        {
          "output_type": "stream",
          "name": "stderr",
          "text": [
            "[nltk_data] Downloading package stopwords to /root/nltk_data...\n",
            "[nltk_data]   Package stopwords is already up-to-date!\n",
            "[nltk_data] Downloading package wordnet to /root/nltk_data...\n",
            "[nltk_data]   Package wordnet is already up-to-date!\n",
            "[nltk_data] Downloading package omw-1.4 to /root/nltk_data...\n",
            "[nltk_data]   Package omw-1.4 is already up-to-date!\n"
          ]
        },
        {
          "output_type": "execute_result",
          "data": {
            "text/plain": [
              "True"
            ]
          },
          "metadata": {},
          "execution_count": 24
        }
      ]
    },
    {
      "cell_type": "code",
      "source": [
        "\"\"\"Clean the data\"\"\"\n",
        "def preprocess(text,stop_words,stemming=False,lemantizing=False):\n",
        "  \n",
        "  text = re.sub(r'[^\\w\\s]', '', str(text).lower().strip())\n",
        "  #tokenize\n",
        "  text_list=text.split()\n",
        "  # text_list=[str(word) for word in text_list]\n",
        "  #stopwords\n",
        "  if stop_words:\n",
        "    text_list=[word for word in text_list if word not in stop_words]\n",
        "  \n",
        "  ## Stemming \n",
        "  if stemming ==True:\n",
        "    st=nltk.stem.porter.PorterStemmer()\n",
        "    text_list=[st.stem(word) for word in text_list]\n",
        "    \n",
        "  ## Lemmatisation \n",
        "  if lemantizing==True:\n",
        "    le=nltk.stem.wordnet.WordNetLemmatizer()\n",
        "    text_list=[le.lemmatize(word) for word in text_list]\n",
        "\n",
        "   ## tokenize to string again\n",
        "    text = \" \".join(text_list)\n",
        "    return text\n",
        "\n"
      ],
      "metadata": {
        "id": "CL76zK1ok1S8"
      },
      "execution_count": null,
      "outputs": []
    },
    {
      "cell_type": "code",
      "source": [
        "#Clean the history_text\n",
        "\n",
        "stopwords_list=nltk.corpus.stopwords.words(\"english\")\n",
        "\n",
        "classify_dataset[\"clean_history\"]=classify_dataset[\"history_text\"].apply(lambda x: preprocess(x,stop_words=stopwords_list,stemming=False,lemantizing=True))\n",
        "classify_dataset.head\n"
      ],
      "metadata": {
        "colab": {
          "base_uri": "https://localhost:8080/"
        },
        "id": "DiFVoWewo8bx",
        "outputId": "673d10ac-126e-48f4-b734-91f4624ae507"
      },
      "execution_count": null,
      "outputs": [
        {
          "output_type": "stream",
          "name": "stderr",
          "text": [
            "/usr/local/lib/python3.7/dist-packages/ipykernel_launcher.py:5: SettingWithCopyWarning: \n",
            "A value is trying to be set on a copy of a slice from a DataFrame.\n",
            "Try using .loc[row_indexer,col_indexer] = value instead\n",
            "\n",
            "See the caveats in the documentation: https://pandas.pydata.org/pandas-docs/stable/user_guide/indexing.html#returning-a-view-versus-a-copy\n",
            "  \"\"\"\n"
          ]
        },
        {
          "output_type": "execute_result",
          "data": {
            "text/plain": [
              "<bound method NDFrame.head of                                            history_text        creator  \\\n",
              "0     Delroy Garrett, Jr. grew up to become a track ...  Marvel Comics   \n",
              "1     He was one of the many prisoners of Indian Hil...      DC Comics   \n",
              "2      Richard \"Rick\" Jones was orphaned at a young ...  Marvel Comics   \n",
              "3     Aa is one of the more passive members of the P...      DC Comics   \n",
              "4     Aaron Cash is the head of security at Arkham A...      DC Comics   \n",
              "...                                                 ...            ...   \n",
              "1445  Zatanna is the daughter of adventurer John Zat...      DC Comics   \n",
              "1446   Zero was created by the late Dr. Albert Wily ...         Capcom   \n",
              "1447  Hunter Zolomon is better known as Zoom, a spee...      DC Comics   \n",
              "1448   Hunter Zolomon had a troubled relationship wi...      DC Comics   \n",
              "1449  Zzzax was the product of an accident that occu...  Marvel Comics   \n",
              "\n",
              "                                          clean_history  \n",
              "0     delroy garrett jr grew become track star compe...  \n",
              "1     one many prisoner indian hill transferred anot...  \n",
              "2     richard rick jones orphaned young age expelled...  \n",
              "3     aa one passive member pumice people race stone...  \n",
              "4     aaron cash head security arkham asylum hook ha...  \n",
              "...                                                 ...  \n",
              "1445  zatanna daughter adventurer john zatara wife s...  \n",
              "1446  zero created late dr albert wily sometime earl...  \n",
              "1447  hunter zolomon better known zoom speedster sup...  \n",
              "1448  hunter zolomon troubled relationship parent ra...  \n",
              "1449  zzzax product accident occurred consolidated e...  \n",
              "\n",
              "[1233 rows x 3 columns]>"
            ]
          },
          "metadata": {},
          "execution_count": 26
        }
      ]
    },
    {
      "cell_type": "markdown",
      "source": [
        "# **Split Data**"
      ],
      "metadata": {
        "id": "D5Atv-D15Mv-"
      }
    },
    {
      "cell_type": "code",
      "source": [
        "\"\"\"Split the data\"\"\"\n",
        "from sklearn.model_selection import train_test_split\n",
        "\n",
        "# creating instance of labelencoder\n",
        "labelencoder = preprocessing.LabelEncoder()\n",
        "classify_dataset['creator_labels'] = labelencoder.fit_transform(classify_dataset['creator'])\n",
        "X_train,X_test,Y_train,Y_test=train_test_split(classify_dataset['clean_history'],classify_dataset['creator_labels'],test_size=0.3)\n"
      ],
      "metadata": {
        "colab": {
          "base_uri": "https://localhost:8080/"
        },
        "id": "2yJvv-OrvKar",
        "outputId": "2c564e2d-0536-4dc5-b93f-7e33096c2079"
      },
      "execution_count": null,
      "outputs": [
        {
          "output_type": "stream",
          "name": "stderr",
          "text": [
            "/usr/local/lib/python3.7/dist-packages/ipykernel_launcher.py:7: SettingWithCopyWarning: \n",
            "A value is trying to be set on a copy of a slice from a DataFrame.\n",
            "Try using .loc[row_indexer,col_indexer] = value instead\n",
            "\n",
            "See the caveats in the documentation: https://pandas.pydata.org/pandas-docs/stable/user_guide/indexing.html#returning-a-view-versus-a-copy\n",
            "  import sys\n"
          ]
        }
      ]
    },
    {
      "cell_type": "code",
      "source": [
        "Y_train.value_counts()"
      ],
      "metadata": {
        "id": "SRIlyry55-rR"
      },
      "execution_count": null,
      "outputs": []
    },
    {
      "cell_type": "markdown",
      "source": [
        "# **bag-of-words**"
      ],
      "metadata": {
        "id": "ggewKPg72YLX"
      }
    },
    {
      "cell_type": "code",
      "source": [
        "#vectorizer\n",
        "from sklearn.feature_extraction.text import TfidfVectorizer\n",
        "vectorizer=TfidfVectorizer(max_features=10000,ngram_range=(1,2),lowercase=False)\n"
      ],
      "metadata": {
        "id": "LEfCOWqW2Xoa"
      },
      "execution_count": null,
      "outputs": []
    },
    {
      "cell_type": "code",
      "source": [
        "#ML model\n",
        "\n",
        "from sklearn.svm import SVC\n",
        "classifier= SVC(kernel='linear',random_state=42)\n"
      ],
      "metadata": {
        "id": "bwgLrFY32TfW"
      },
      "execution_count": null,
      "outputs": []
    },
    {
      "cell_type": "code",
      "source": [
        "model=pipeline.Pipeline([(\"vectorizer\",vectorizer),\n",
        "                         (\"classifier\",classifier)])\n",
        "\n",
        "model.fit(X_train,Y_train)\n",
        "#Test\n",
        "# predicted=model.predict(X_test)"
      ],
      "metadata": {
        "colab": {
          "base_uri": "https://localhost:8080/"
        },
        "id": "FGrbzW5-3sDD",
        "outputId": "3640f7ac-5d8a-46aa-8eb6-b0e77c025c0d"
      },
      "execution_count": null,
      "outputs": [
        {
          "output_type": "execute_result",
          "data": {
            "text/plain": [
              "Pipeline(steps=[('vectorizer',\n",
              "                 TfidfVectorizer(lowercase=False, max_features=10000,\n",
              "                                 ngram_range=(1, 2))),\n",
              "                ('classifier', SVC(kernel='linear', random_state=42))])"
            ]
          },
          "metadata": {},
          "execution_count": 31
        }
      ]
    },
    {
      "cell_type": "code",
      "source": [
        "predicted=model.predict(X_test)"
      ],
      "metadata": {
        "id": "s7MkI8F-4N8c"
      },
      "execution_count": null,
      "outputs": []
    },
    {
      "cell_type": "code",
      "source": [
        "# Accuracy, Precision, Recall\n",
        "from sklearn import metrics\n",
        "train_accuracy = metrics.accuracy_score(Y_train, model.predict(X_train))\n",
        "test_accuracy = metrics.accuracy_score(Y_test, predicted)\n",
        "print(\"Train Accuracy:\",  round(train_accuracy,2))\n",
        "print(\"Test Accuracy:\",  round(test_accuracy,2))\n",
        "print(\"Detail:\")\n",
        "print(metrics.classification_report(Y_test, predicted))"
      ],
      "metadata": {
        "colab": {
          "base_uri": "https://localhost:8080/"
        },
        "id": "-Ow2VPj1DzLD",
        "outputId": "43e6b5ba-d370-452a-a348-402a2841472d"
      },
      "execution_count": null,
      "outputs": [
        {
          "output_type": "stream",
          "name": "stdout",
          "text": [
            "Train Accuracy: 0.96\n",
            "Test Accuracy: 0.82\n",
            "Detail:\n",
            "              precision    recall  f1-score   support\n",
            "\n",
            "           0       0.00      0.00      0.00         2\n",
            "           2       0.00      0.00      0.00         1\n",
            "           3       0.00      0.00      0.00         1\n",
            "           5       0.82      0.88      0.85       122\n",
            "           6       1.00      0.50      0.67         8\n",
            "           7       0.00      0.00      0.00         1\n",
            "           9       1.00      0.40      0.57         5\n",
            "          10       0.00      0.00      0.00         1\n",
            "          12       0.00      0.00      0.00         3\n",
            "          13       0.00      0.00      0.00         1\n",
            "          16       0.00      0.00      0.00         2\n",
            "          17       1.00      0.25      0.40         4\n",
            "          18       0.00      0.00      0.00         3\n",
            "          19       0.00      0.00      0.00         1\n",
            "          21       1.00      0.50      0.67         2\n",
            "          22       0.81      0.97      0.88       187\n",
            "          25       0.00      0.00      0.00         1\n",
            "          27       1.00      0.25      0.40         4\n",
            "          28       0.00      0.00      0.00         1\n",
            "          31       1.00      0.50      0.67        12\n",
            "          33       0.00      0.00      0.00         1\n",
            "          34       0.00      0.00      0.00         1\n",
            "          36       0.00      0.00      0.00         1\n",
            "          37       0.00      0.00      0.00         1\n",
            "          38       1.00      0.50      0.67         2\n",
            "          39       0.00      0.00      0.00         1\n",
            "          40       0.00      0.00      0.00         1\n",
            "\n",
            "    accuracy                           0.82       370\n",
            "   macro avg       0.32      0.18      0.21       370\n",
            "weighted avg       0.78      0.82      0.78       370\n",
            "\n"
          ]
        },
        {
          "output_type": "stream",
          "name": "stderr",
          "text": [
            "/usr/local/lib/python3.7/dist-packages/sklearn/metrics/_classification.py:1318: UndefinedMetricWarning: Precision and F-score are ill-defined and being set to 0.0 in labels with no predicted samples. Use `zero_division` parameter to control this behavior.\n",
            "  _warn_prf(average, modifier, msg_start, len(result))\n",
            "/usr/local/lib/python3.7/dist-packages/sklearn/metrics/_classification.py:1318: UndefinedMetricWarning: Precision and F-score are ill-defined and being set to 0.0 in labels with no predicted samples. Use `zero_division` parameter to control this behavior.\n",
            "  _warn_prf(average, modifier, msg_start, len(result))\n",
            "/usr/local/lib/python3.7/dist-packages/sklearn/metrics/_classification.py:1318: UndefinedMetricWarning: Precision and F-score are ill-defined and being set to 0.0 in labels with no predicted samples. Use `zero_division` parameter to control this behavior.\n",
            "  _warn_prf(average, modifier, msg_start, len(result))\n"
          ]
        }
      ]
    },
    {
      "cell_type": "markdown",
      "source": [
        "# **Word2vec**"
      ],
      "metadata": {
        "id": "ofBcK3fuF00d"
      }
    },
    {
      "cell_type": "code",
      "source": [
        "\"\"\"Import libraries\"\"\"\n",
        "import gensim\n",
        "from gensim import models\n",
        "import gensim.downloader as gensim_api\n",
        "import tensorflow\n",
        "from tensorflow.keras import models,layers,preprocessing \n",
        "from tensorflow.keras import backend as K"
      ],
      "metadata": {
        "id": "drZHYGY_ECCJ"
      },
      "execution_count": null,
      "outputs": []
    },
    {
      "cell_type": "code",
      "source": [
        "\"\"\"Clean the data\"\"\"\n",
        "doc=X_train\n",
        "\n",
        "#creating unigrams\n",
        "doc_list=[]\n",
        "for sentence in doc:\n",
        "   text_list=sentence.split()\n",
        "   list_grams = [\" \".join(text_list[i:i+1]) \n",
        "               for i in range(0, len(text_list), 1)]\n",
        "   doc_list.append(list_grams)\n",
        "\n",
        "## detect bigrams and trigrams\n",
        "bigrams_detector = gensim.models.phrases.Phrases(doc_list, \n",
        "                 delimiter=\" \".encode(), min_count=5, threshold=10)\n",
        "bigrams_detector = gensim.models.phrases.Phraser(bigrams_detector)\n",
        "trigrams_detector = gensim.models.phrases.Phrases(bigrams_detector[doc_list], \n",
        "            delimiter=\" \".encode(), min_count=5, threshold=10)\n",
        "trigrams_detector = gensim.models.phrases.Phraser(trigrams_detector)"
      ],
      "metadata": {
        "id": "6A95ZfkAGU6_"
      },
      "execution_count": null,
      "outputs": []
    },
    {
      "cell_type": "code",
      "source": [
        "#fit w2v model\n",
        "nlp=gensim.models.word2vec.Word2Vec(doc_list,size=300,window=8,min_count=1,sg=1,iter=30)"
      ],
      "metadata": {
        "id": "YcXwfu2xHcCx"
      },
      "execution_count": null,
      "outputs": []
    },
    {
      "cell_type": "code",
      "source": [
        "# Save word2vec model\n",
        "nlp.save(\"word2vec_superhero.model\")"
      ],
      "metadata": {
        "id": "7usACIheIv7j"
      },
      "execution_count": null,
      "outputs": []
    },
    {
      "cell_type": "code",
      "source": [
        "#tokenizer\n",
        "tokenizer=preprocessing.text.Tokenizer(lower=True, split= ' ',oov_token=\"Nan\", filters='!\"#$%&()*+,-./:;<=>?@[\\\\]^_`{|}~\\t\\n')\n",
        "tokenizer.fit_on_texts(doc_list)\n",
        "dictionary_vocab=tokenizer.word_index\n",
        "\n",
        "text2seq=tokenizer.texts_to_sequences(doc_list)\n",
        "\n",
        "#padding\n",
        "X_train_wv=preprocessing.sequence.pad_sequences(text2seq,maxlen=15,padding='post',truncating=\"post\")\n",
        "\n",
        "\n"
      ],
      "metadata": {
        "id": "Wixblp-KINw4"
      },
      "execution_count": null,
      "outputs": []
    },
    {
      "cell_type": "code",
      "source": [
        "doc_test = X_test\n",
        "\n",
        "## create list of n-grams'\n",
        "doc_test_list = []\n",
        "for string in doc_test:\n",
        "    lst_words = string.split()\n",
        "    lst_grams = [\" \".join(lst_words[i:i+1]) for i in range(0, \n",
        "                 len(lst_words), 1)]\n",
        "    doc_test_list.append(lst_grams)\n",
        "    \n",
        "## detect common bigrams and trigrams using the fitted detectors\n",
        "lst_corpus = list(bigrams_detector[doc_test_list])\n",
        "lst_corpus = list(trigrams_detector[lst_corpus])\n",
        "## text to sequence with the fitted tokenizer\n",
        "lst_text2seq = tokenizer.texts_to_sequences(lst_corpus)\n",
        "\n",
        "## padding sequence\n",
        "X_test_wv = preprocessing.sequence.pad_sequences(lst_text2seq, maxlen=15,\n",
        "             padding=\"post\", truncating=\"post\")"
      ],
      "metadata": {
        "id": "Xt4_LTK9LDib"
      },
      "execution_count": null,
      "outputs": []
    },
    {
      "cell_type": "code",
      "source": [
        "## start the matrix (length of vocabulary x vector size) with all 0s\n",
        "embeddings = np.zeros((len(dictionary_vocab)+1, 300))\n",
        "for word,idx in dictionary_vocab.items():\n",
        "    ## update the row with vector\n",
        "    try:\n",
        "        embeddings[idx] =  nlp[word]\n",
        "    ## if word not in model then skip and the row stays all 0s\n",
        "    except:\n",
        "        pass"
      ],
      "metadata": {
        "colab": {
          "base_uri": "https://localhost:8080/"
        },
        "id": "dXTmQP0RLXIN",
        "outputId": "5d2355f4-9981-4bb8-fd39-de599ceff62f"
      },
      "execution_count": null,
      "outputs": [
        {
          "output_type": "stream",
          "name": "stderr",
          "text": [
            "/usr/local/lib/python3.7/dist-packages/ipykernel_launcher.py:6: DeprecationWarning: Call to deprecated `__getitem__` (Method will be removed in 4.0.0, use self.wv.__getitem__() instead).\n",
            "  \n"
          ]
        }
      ]
    },
    {
      "cell_type": "code",
      "source": [
        "import tensorflow as tf\n",
        "from tensorflow import keras\n",
        "from tensorflow.keras import layers"
      ],
      "metadata": {
        "id": "R3UrMasZLbvK"
      },
      "execution_count": null,
      "outputs": []
    },
    {
      "cell_type": "code",
      "source": [
        "\"\"\"Model creation\"\"\"\n",
        "model = keras.Sequential()\n",
        "model.add(layers.Embedding(input_dim=embeddings.shape[0],output_dim=embeddings.shape[1] , weights=[embeddings], input_length=15, trainable=False))\n",
        "# model.add(layers.Flatten())\n",
        "model.add(layers.Bidirectional(layers.LSTM(units=15, dropout=0.2)))\n",
        "model.add(layers.Dense(64, activation='relu'))\n",
        "model.add(layers.Dense(40, activation='softmax'))\n",
        "\n",
        "model.compile(loss='sparse_categorical_crossentropy',\n",
        "              optimizer='adam', metrics=['accuracy'])\n",
        "\n",
        "model.summary()\n"
      ],
      "metadata": {
        "colab": {
          "base_uri": "https://localhost:8080/"
        },
        "id": "tz-UN47ZLjgC",
        "outputId": "eeaa3489-f473-4ebf-a561-a38811029dc4"
      },
      "execution_count": null,
      "outputs": [
        {
          "output_type": "stream",
          "name": "stdout",
          "text": [
            "Model: \"sequential\"\n",
            "_________________________________________________________________\n",
            " Layer (type)                Output Shape              Param #   \n",
            "=================================================================\n",
            " embedding (Embedding)       (None, 15, 300)           7535100   \n",
            "                                                                 \n",
            " bidirectional (Bidirectiona  (None, 30)               37920     \n",
            " l)                                                              \n",
            "                                                                 \n",
            " dense (Dense)               (None, 64)                1984      \n",
            "                                                                 \n",
            " dense_1 (Dense)             (None, 40)                2600      \n",
            "                                                                 \n",
            "=================================================================\n",
            "Total params: 7,577,604\n",
            "Trainable params: 42,504\n",
            "Non-trainable params: 7,535,100\n",
            "_________________________________________________________________\n"
          ]
        }
      ]
    },
    {
      "cell_type": "code",
      "source": [
        "from tensorflow.keras import callbacks\n",
        "from tensorflow.keras.callbacks import EarlyStopping"
      ],
      "metadata": {
        "id": "QCovlggnLqCK"
      },
      "execution_count": null,
      "outputs": []
    },
    {
      "cell_type": "code",
      "source": [
        "## encode y\n",
        "dic_y_mapping = {n:label for n,label in \n",
        "                 enumerate(np.unique(Y_train))}\n",
        "inverse_dic = {v:k for k,v in dic_y_mapping.items()}\n",
        "Y_train = np.array([inverse_dic[y] for y in Y_train])\n",
        "# ## train\n",
        "pmodel=model.fit(x=X_train_wv, y=Y_train, batch_size=16, epochs=30, validation_split=0.1,callbacks=EarlyStopping(monitor='val_loss',verbose=1, patience=5))"
      ],
      "metadata": {
        "colab": {
          "base_uri": "https://localhost:8080/"
        },
        "id": "pxuoZGWKLtDb",
        "outputId": "4e5d9db2-1026-4844-8a7a-dee14b207f7f"
      },
      "execution_count": null,
      "outputs": [
        {
          "output_type": "stream",
          "name": "stdout",
          "text": [
            "Epoch 1/30\n",
            "49/49 [==============================] - 6s 37ms/step - loss: 2.7754 - accuracy: 0.3866 - val_loss: 1.8239 - val_accuracy: 0.4828\n",
            "Epoch 2/30\n",
            "49/49 [==============================] - 1s 16ms/step - loss: 1.6584 - accuracy: 0.5103 - val_loss: 1.6679 - val_accuracy: 0.5977\n",
            "Epoch 3/30\n",
            "49/49 [==============================] - 1s 16ms/step - loss: 1.4674 - accuracy: 0.6430 - val_loss: 1.4697 - val_accuracy: 0.6437\n",
            "Epoch 4/30\n",
            "49/49 [==============================] - 1s 16ms/step - loss: 1.2438 - accuracy: 0.7075 - val_loss: 1.3916 - val_accuracy: 0.6437\n",
            "Epoch 5/30\n",
            "49/49 [==============================] - 1s 17ms/step - loss: 1.0713 - accuracy: 0.7229 - val_loss: 1.3254 - val_accuracy: 0.6667\n",
            "Epoch 6/30\n",
            "49/49 [==============================] - 1s 18ms/step - loss: 0.9459 - accuracy: 0.7564 - val_loss: 1.2782 - val_accuracy: 0.6782\n",
            "Epoch 7/30\n",
            "49/49 [==============================] - 1s 16ms/step - loss: 0.8452 - accuracy: 0.7784 - val_loss: 1.2771 - val_accuracy: 0.6667\n",
            "Epoch 8/30\n",
            "49/49 [==============================] - 1s 16ms/step - loss: 0.7171 - accuracy: 0.8093 - val_loss: 1.3078 - val_accuracy: 0.6897\n",
            "Epoch 9/30\n",
            "49/49 [==============================] - 1s 17ms/step - loss: 0.6388 - accuracy: 0.8299 - val_loss: 1.3560 - val_accuracy: 0.6552\n",
            "Epoch 10/30\n",
            "49/49 [==============================] - 1s 16ms/step - loss: 0.5671 - accuracy: 0.8389 - val_loss: 1.3685 - val_accuracy: 0.6897\n",
            "Epoch 11/30\n",
            "49/49 [==============================] - 1s 16ms/step - loss: 0.4863 - accuracy: 0.8763 - val_loss: 1.4523 - val_accuracy: 0.7126\n",
            "Epoch 12/30\n",
            "49/49 [==============================] - 1s 16ms/step - loss: 0.4281 - accuracy: 0.8930 - val_loss: 1.4600 - val_accuracy: 0.6897\n",
            "Epoch 12: early stopping\n"
          ]
        }
      ]
    },
    {
      "cell_type": "code",
      "source": [
        "# model.evaluate(X_test_wv, y_test_p)\n",
        "from sklearn import metrics\n",
        "predicted_prob = model.predict(X_test_wv)\n",
        "predicted = [dic_y_mapping[np.argmax(pred)] for pred in \n",
        "             predicted_prob_p]\n",
        "metrics.accuracy_score(Y_test,predicted)"
      ],
      "metadata": {
        "colab": {
          "base_uri": "https://localhost:8080/"
        },
        "id": "U8_5DUWNLvQh",
        "outputId": "f080b1a8-ddd4-415e-97e7-9f8efb665bfa"
      },
      "execution_count": null,
      "outputs": [
        {
          "output_type": "stream",
          "name": "stdout",
          "text": [
            "12/12 [==============================] - 0s 11ms/step\n"
          ]
        },
        {
          "output_type": "execute_result",
          "data": {
            "text/plain": [
              "0.6837837837837838"
            ]
          },
          "metadata": {},
          "execution_count": 55
        }
      ]
    },
    {
      "cell_type": "code",
      "source": [
        ""
      ],
      "metadata": {
        "id": "loiRd8vE56bp"
      },
      "execution_count": null,
      "outputs": []
    }
  ]
}